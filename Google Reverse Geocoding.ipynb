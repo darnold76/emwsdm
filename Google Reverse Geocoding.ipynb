{
 "cells": [
  {
   "cell_type": "code",
   "execution_count": null,
   "metadata": {
    "collapsed": true
   },
   "outputs": [],
   "source": [
    "## Google Reverse Geocoding Examples"
   ]
  },
  {
   "cell_type": "markdown",
   "metadata": {},
   "source": [
    "\n",
    "\n",
    "The Google Reverse Geocoder API will return an address when provided with valid latitude and longitude. A Google Geocoding API key (you may use the same key from the Geocoding example here) required. You may get your own here: [Get a Google Geocoding API Key](https://developers.google.com/maps/documentation/geocoding/get-api-key)\n"
   ]
  },
  {
   "cell_type": "code",
   "execution_count": null,
   "metadata": {
    "collapsed": true
   },
   "outputs": [],
   "source": [
    "import requests\n",
    "import pandas as pd\n",
    "import json\n",
    "from IPython.display import display\n",
    "from time import sleep\n",
    "\n",
    "def get_location(parameters,isGoogle = False):\n",
    "    # Returns latitude and longitude of a valid address\n",
    "    r = requests.get('https://maps.googleapis.com/maps/api/geocode/json?', params=parameters)\n",
    "    try:\n",
    "        r.status_code == 200\n",
    "        if isGoogle == True and r.json()['status'] == 'OK':\n",
    "            return json.dumps(r.json()['results'])\n",
    "        else: \n",
    "            return json.dumps(r.json())\n",
    "    except:\n",
    "        # Any invalid response from Nominatim processes here\n",
    "        return None\n",
    "\n",
    "    \n",
    "def build_dataframe(data):\n",
    "    location_dataframe = pd.read_json(data)\n",
    "    return location_dataframe\n",
    "    \n",
    "param_set = {'latlng':'41.5019583,-81.61172580000002', 'key': ''}\n",
    "\n",
    "geodata = get_location(param_set,True)\n",
    "df_google = build_dataframe(geodata)\n",
    "display(df_google.iloc[0]['formatted_address'])\n",
    "\n",
    "param_set_2 = {'latlng':'40.87037470000001,-81.39481359999999', 'key': ''}\n",
    "geodata2 = get_location(param_set_2,True)\n",
    "df_google2 = build_dataframe(geodata2)\n",
    "display(df_google2.iloc[0]['formatted_address'])\n"
   ]
  },
  {
   "cell_type": "code",
   "execution_count": null,
   "metadata": {
    "collapsed": true
   },
   "outputs": [],
   "source": []
  }
 ],
 "metadata": {
  "kernelspec": {
   "display_name": "Python 3",
   "language": "python",
   "name": "python3"
  },
  "language_info": {
   "codemirror_mode": {
    "name": "ipython",
    "version": 3
   },
   "file_extension": ".py",
   "mimetype": "text/x-python",
   "name": "python",
   "nbconvert_exporter": "python",
   "pygments_lexer": "ipython3",
   "version": "3.6.3"
  }
 },
 "nbformat": 4,
 "nbformat_minor": 2
}
