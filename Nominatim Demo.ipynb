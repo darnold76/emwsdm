{
 "cells": [
  {
   "cell_type": "markdown",
   "metadata": {},
   "source": [
    "## Nominatim Demo"
   ]
  },
  {
   "cell_type": "markdown",
   "metadata": {},
   "source": [
    "This is a worksheet that demonstrates various ways to query Nominatim, an interface to OpenStreetMap (OSM) data.\n",
    "Nominatim, like the OpenStreetMap of which it is part is free. I would encourage you to read the an Overview of how to write code against Nominatim is available [here] (http://wiki.openstreetmap.org/wiki/Nominatim/Development_overview)"
   ]
  },
  {
   "cell_type": "code",
   "execution_count": 3,
   "metadata": {},
   "outputs": [
    {
     "name": "stdout",
     "output_type": "stream",
     "text": [
      "41.50189465, -81.6118352453802\n",
      "41.0765982, -81.5045057\n"
     ]
    }
   ],
   "source": [
    "\n",
    "import requests\n",
    "import pandas as pd\n",
    "import json\n",
    "from IPython.display import display\n",
    "from pprint import pprint\n",
    "\n",
    "#df = pd.read_csv('All_Starbucks_Locations_in_the_World_-_Point_Map.csv', index_col='Store ID')\n",
    "\n",
    "# display()[(df.Country == 'US')]\n",
    "\n",
    "def get_location(parameters):\n",
    "    # Returns latitude and longitude of a valid address\n",
    "    r = requests.get('http://nominatim.openstreetmap.org/search/query?', params=parameters)\n",
    "    try:\n",
    "        r.status_code == 200\n",
    "        return json.dumps(r.json())\n",
    "    except:\n",
    "        # Any invalid response from Nominatim processes here\n",
    "        return None, None\n",
    "    \n",
    "def build_dataframe(data):\n",
    "    location_dataframe = pd.read_json(data)\n",
    "    return location_dataframe\n",
    "\n",
    "def print_coordinates(lat,lon):\n",
    "    print(\"{0}, {1}\".format(lat,lon))\n",
    "\n",
    "params = {'polygon_geojson': '1', 'format': 'json', 'street': '2075 Stokes Blvd.','city': 'Cleveland', 'state': 'OH', 'country': 'USA', 'postalcode': '44106', 'limit':'1'}\n",
    "\n",
    "first_home_location = get_location(params)\n",
    "nom_geo0 = build_dataframe(first_home_location)\n",
    "\n",
    "params2 = params\n",
    "params2['street'] = '325 E Buchtel'\n",
    "params2['city'] = 'Akron'\n",
    "params2['state'] = 'OH'\n",
    "params2['postalcode'] = '44325'\n",
    "\n",
    "second_home_location = get_location(params2)\n",
    "nom_geo = build_dataframe(second_home_location)\n",
    "\n",
    "print_coordinates(nom_geo0['lat'][0],nom_geo0['lon'][0])\n",
    "print_coordinates(nom_geo['lat'][0],nom_geo['lon'][0])"
   ]
  },
  {
   "cell_type": "code",
   "execution_count": null,
   "metadata": {
    "collapsed": true
   },
   "outputs": [],
   "source": []
  }
 ],
 "metadata": {
  "kernelspec": {
   "display_name": "Python 3",
   "language": "python",
   "name": "python3"
  },
  "language_info": {
   "codemirror_mode": {
    "name": "ipython",
    "version": 3
   },
   "file_extension": ".py",
   "mimetype": "text/x-python",
   "name": "python",
   "nbconvert_exporter": "python",
   "pygments_lexer": "ipython3",
   "version": "3.6.3"
  }
 },
 "nbformat": 4,
 "nbformat_minor": 2
}
